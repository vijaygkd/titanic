{
 "metadata": {
  "name": "",
  "signature": "sha256:08ebdd85c59d49f5847979e7d3fa5c3da23803b997096a78e38e01a87a95d903"
 },
 "nbformat": 3,
 "nbformat_minor": 0,
 "worksheets": [
  {
   "cells": [
    {
     "cell_type": "code",
     "collapsed": false,
     "input": [
      "#imports\n",
      "import pandas as pd\n",
      "import numpy as np\n",
      "import csv"
     ],
     "language": "python",
     "metadata": {},
     "outputs": [],
     "prompt_number": 301
    },
    {
     "cell_type": "code",
     "collapsed": false,
     "input": [
      "#read files\n",
      "test = pd.read_csv('data/test.csv')\n",
      "train = pd.read_csv('data/train.csv')"
     ],
     "language": "python",
     "metadata": {},
     "outputs": [],
     "prompt_number": 302
    },
    {
     "cell_type": "code",
     "collapsed": false,
     "input": [
      "#clean data\n",
      "def drop_cols(df):\n",
      "    return df.drop(['Name', 'Ticket', 'Cabin'], axis=1)\n",
      "    \n",
      "def fill_missing_age(df):\n",
      "    fill_value = df.Age.median()\n",
      "    df.loc[df.Age.isnull(),'Age'] = fill_value\n",
      "    return df\n",
      "    \n",
      "def fill_missing_embarked(df):\n",
      "    fill_value = df.Embarked.dropna().mode().values\n",
      "    df.Embarked[df.Embarked.isnull()] = fill_value\n",
      "    return df\n",
      "\n",
      "def fill_missing_fare(df):\n",
      "    fares = {1:0,2:0,3:0}\n",
      "    for c in range(1,4):\n",
      "        fares[c] = train.loc[train.Pclass == c, 'Fare'].median()\n",
      "    for c in range(1,4):\n",
      "        df.loc[df.Fare.isnull() & df.Pclass == c, 'Fare'] = fares[c]\n",
      "    return df\n",
      "\n",
      "def transform_sex(df):\n",
      "    df.Sex = df.Sex.map( {'female': 0, 'male': 1} ).astype(int)\n",
      "    return df\n",
      "\n",
      "    \n",
      "def tranform_embarked(df):\n",
      "    ports = {name : i for i,name in list(enumerate(np.unique(df['Embarked'])))}\n",
      "    df.Embarked = df.Embarked.map(lambda x: ports[x]).astype(int)\n",
      "    return df\n",
      "\n",
      "\n",
      "#check count of null\n",
      "#train.isnull().sum()"
     ],
     "language": "python",
     "metadata": {},
     "outputs": [],
     "prompt_number": 303
    },
    {
     "cell_type": "code",
     "collapsed": false,
     "input": [
      "#perform data transforms\n",
      "\n",
      "train = drop_cols(train)\n",
      "test = drop_cols(test)\n",
      "\n",
      "train = fill_missing_age(train)\n",
      "test = fill_missing_age(test)\n",
      "\n",
      "train = fill_missing_embarked(train)\n",
      "test = fill_missing_fare(test)\n",
      "\n",
      "train = tranform_embarked(train)\n",
      "test = tranform_embarked(test)\n",
      "train = transform_sex(train)\n",
      "test = transform_sex(test)"
     ],
     "language": "python",
     "metadata": {},
     "outputs": [],
     "prompt_number": 304
    },
    {
     "cell_type": "code",
     "collapsed": false,
     "input": [
      "#accuracy\n",
      "def accuracy(y, y_hat):\n",
      "    correct = np.sum(y == y_hat)\n",
      "    total = len(y)\n",
      "    return correct*100.0/total"
     ],
     "language": "python",
     "metadata": {},
     "outputs": [],
     "prompt_number": 305
    },
    {
     "cell_type": "code",
     "collapsed": false,
     "input": [
      "#create output file\n",
      "def create_output(ids, predictions, filename):\n",
      "    with open(filename, 'wb') as output_file:\n",
      "        csv_writer = csv.writer(output_file)\n",
      "        csv_writer.writerow(['PassengerId','Survived'])\n",
      "        csv_writer.writerows(zip(ids, predictions))"
     ],
     "language": "python",
     "metadata": {},
     "outputs": [],
     "prompt_number": 306
    },
    {
     "cell_type": "code",
     "collapsed": false,
     "input": [
      "#data\n",
      "x_train = train.ix[:,2:]\n",
      "x_test = test.ix[:,1:]\n",
      "\n",
      "y_train = train.Survived"
     ],
     "language": "python",
     "metadata": {},
     "outputs": [],
     "prompt_number": 307
    },
    {
     "cell_type": "code",
     "collapsed": false,
     "input": [
      "#model\n",
      "from sklearn.ensemble import RandomForestClassifier\n",
      "\n",
      "model = RandomForestClassifier(n_estimators=1000)\n",
      "model.fit(x_train, y_train)"
     ],
     "language": "python",
     "metadata": {},
     "outputs": [
      {
       "metadata": {},
       "output_type": "pyout",
       "prompt_number": 308,
       "text": [
        "RandomForestClassifier(bootstrap=True, compute_importances=None,\n",
        "            criterion='gini', max_depth=None, max_features='auto',\n",
        "            max_leaf_nodes=None, min_density=None, min_samples_leaf=1,\n",
        "            min_samples_split=2, n_estimators=1000, n_jobs=1,\n",
        "            oob_score=False, random_state=None, verbose=0)"
       ]
      }
     ],
     "prompt_number": 308
    },
    {
     "cell_type": "code",
     "collapsed": false,
     "input": [
      "y_hat_train = model.predict(x_train)"
     ],
     "language": "python",
     "metadata": {},
     "outputs": [],
     "prompt_number": 309
    },
    {
     "cell_type": "code",
     "collapsed": false,
     "input": [
      "accuracy(y_train, y_hat_train)"
     ],
     "language": "python",
     "metadata": {},
     "outputs": [
      {
       "metadata": {},
       "output_type": "pyout",
       "prompt_number": 310,
       "text": [
        "97.979797979797979"
       ]
      }
     ],
     "prompt_number": 310
    },
    {
     "cell_type": "code",
     "collapsed": false,
     "input": [
      "y_hat_test = model.predict(test.ix[:,1:])\n",
      "create_output(test.PassengerId, y_hat_test, 'data/output/output_1.csv')"
     ],
     "language": "python",
     "metadata": {},
     "outputs": [],
     "prompt_number": 311
    },
    {
     "cell_type": "code",
     "collapsed": false,
     "input": [],
     "language": "python",
     "metadata": {},
     "outputs": []
    }
   ],
   "metadata": {}
  }
 ]
}