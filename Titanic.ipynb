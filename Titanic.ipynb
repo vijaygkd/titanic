{
 "cells": [
  {
   "cell_type": "raw",
   "metadata": {},
   "source": [
    "TODO:\n",
    "1. Cross Validation\n",
    "2. Feature selection\n",
    "3. Parameter optimization\n"
   ]
  },
  {
   "cell_type": "code",
   "execution_count": 183,
   "metadata": {
    "collapsed": false
   },
   "outputs": [],
   "source": [
    "#imports\n",
    "import pandas as pd\n",
    "import numpy as np\n",
    "import csv"
   ]
  },
  {
   "cell_type": "code",
   "execution_count": 184,
   "metadata": {
    "collapsed": false
   },
   "outputs": [],
   "source": [
    "#read files\n",
    "test1 = pd.read_csv('data/test.csv')\n",
    "train1 = pd.read_csv('data/train.csv')"
   ]
  },
  {
   "cell_type": "code",
   "execution_count": 185,
   "metadata": {
    "collapsed": false
   },
   "outputs": [],
   "source": [
    "#clean data\n",
    "def drop_cols(df):\n",
    "    return df.drop(['Name', 'Ticket', 'Cabin'], axis=1)\n",
    "    \n",
    "def fill_missing_age(df):\n",
    "    fill_value = df.Age.median()\n",
    "    df.loc[df.Age.isnull(),'Age'] = fill_value\n",
    "    return df\n",
    "    \n",
    "def fill_missing_embarked(df):\n",
    "    fill_value = df.Embarked.dropna().mode().values\n",
    "    df.Embarked[df.Embarked.isnull()] = fill_value\n",
    "    return df\n",
    "\n",
    "def fill_missing_fare(df):\n",
    "    fares = {1:0,2:0,3:0}\n",
    "    for c in range(1,4):\n",
    "        fares[c] = train.loc[train.Pclass == c, 'Fare'].median()\n",
    "    for c in range(1,4):\n",
    "        df.loc[df.Fare.isnull() & df.Pclass == c, 'Fare'] = fares[c]\n",
    "    return df\n",
    "\n",
    "def transform_sex(df):\n",
    "    df.Sex = df.Sex.map( {'female': 0, 'male': 1} ).astype(int)\n",
    "    return df\n",
    "\n",
    "    \n",
    "def transform_embarked(df):\n",
    "    df['Emb_S'] = (df['Embarked']=='S')*1\n",
    "    df['Emb_C'] = (df['Embarked']=='C')*1\n",
    "    df = df.drop('Embarked', axis=1)\n",
    "    return df\n",
    "\n",
    "def transform_pclass(df):\n",
    "    df['Pclass_1'] = (df['Pclass']== 1)*1\n",
    "    df['Pclass_2'] = (df['Pclass']== 2)*1\n",
    "    df = df.drop('Pclass',axis=1)\n",
    "    return df\n",
    "\n",
    "\n",
    "#check count of null\n",
    "#train.isnull().sum()\n",
    "\n",
    "#Pclass and Embarked > create binary categorical features\n",
    "#age, sibsp, parch, fare > normalize\n",
    "#sex > binary"
   ]
  },
  {
   "cell_type": "code",
   "execution_count": 186,
   "metadata": {
    "collapsed": true
   },
   "outputs": [],
   "source": [
    "def mynormalize(data, mean, std):\n",
    "    z_data = (data-mean)/std\n",
    "    norm_data = (z_data-np.min(z_data))/(np.max(z_data) - np.min(z_data))\n",
    "    return norm_data\n",
    "\n",
    "def mean_std_calculator(data):\n",
    "    return np.mean(data), np.std(data)\n",
    "\n",
    "def norm_train_test(feature):\n",
    "    mean, std = mean_std_calculator(train[feature])\n",
    "    train[feature] = mynormalize(train[feature], mean, std)\n",
    "    test[feature] = mynormalize(test[feature], mean, std)\n",
    "    # normalize test data from training mean and std"
   ]
  },
  {
   "cell_type": "code",
   "execution_count": 187,
   "metadata": {
    "collapsed": false
   },
   "outputs": [
    {
     "name": "stderr",
     "output_type": "stream",
     "text": [
      "/Users/Vijay/anaconda/lib/python2.7/site-packages/IPython/kernel/__main__.py:12: SettingWithCopyWarning: \n",
      "A value is trying to be set on a copy of a slice from a DataFrame\n",
      "\n",
      "See the the caveats in the documentation: http://pandas.pydata.org/pandas-docs/stable/indexing.html#indexing-view-versus-copy\n"
     ]
    },
    {
     "data": {
      "text/plain": [
       "[None, None, None, None]"
      ]
     },
     "execution_count": 187,
     "metadata": {},
     "output_type": "execute_result"
    }
   ],
   "source": [
    "#perform data transforms\n",
    "train = train1\n",
    "test = test1\n",
    "\n",
    "\n",
    "#drop 'Name', 'Ticket', 'Cabin'\n",
    "train = drop_cols(train)\n",
    "test = drop_cols(test)\n",
    "\n",
    "\n",
    "#fill missing values\n",
    "train = fill_missing_age(train)\n",
    "test = fill_missing_age(test)\n",
    "\n",
    "train = fill_missing_embarked(train)\n",
    "test = fill_missing_fare(test)\n",
    "\n",
    "\n",
    "# create binary discrete features\n",
    "train = transform_embarked(train)\n",
    "test = transform_embarked(test)\n",
    "\n",
    "train = transform_pclass(train)\n",
    "test = transform_pclass(test)\n",
    "\n",
    "train = transform_sex(train)\n",
    "test = transform_sex(test)\n",
    "\n",
    "\n",
    "# normalize continous features\n",
    "continous_features = np.array(['Age', 'SibSp', 'Parch', 'Fare'])\n",
    "map(norm_train_test, continous_features)\n",
    "\n",
    "\n"
   ]
  },
  {
   "cell_type": "code",
   "execution_count": 188,
   "metadata": {
    "collapsed": false
   },
   "outputs": [],
   "source": [
    "#accuracy\n",
    "def accuracy(y, y_hat):\n",
    "    correct = np.sum(y == y_hat)\n",
    "    total = len(y)\n",
    "    return correct*100.0/total"
   ]
  },
  {
   "cell_type": "code",
   "execution_count": 189,
   "metadata": {
    "collapsed": false
   },
   "outputs": [],
   "source": [
    "#create output file\n",
    "def create_output(ids, predictions, filename):\n",
    "    with open(filename, 'wb') as output_file:\n",
    "        csv_writer = csv.writer(output_file)\n",
    "        csv_writer.writerow(['PassengerId','Survived'])\n",
    "        csv_writer.writerows(zip(ids, predictions))"
   ]
  },
  {
   "cell_type": "code",
   "execution_count": 190,
   "metadata": {
    "collapsed": true
   },
   "outputs": [],
   "source": [
    "#train model and creat output\n",
    "def train_model_and_predict(clf, outputfile):\n",
    "    clf.fit(x_train, y_train)\n",
    "    y_hat_train = clf.predict(x_train)\n",
    "    train_acc = accuracy(y_train, y_hat_train)\n",
    "    y_hat_test = clf.predict(test.ix[:,1:])\n",
    "    create_output(test.PassengerId, y_hat_test, outputfile)\n",
    "    return train_acc"
   ]
  },
  {
   "cell_type": "code",
   "execution_count": 191,
   "metadata": {
    "collapsed": false
   },
   "outputs": [],
   "source": [
    "#data\n",
    "x_train = train.ix[:,2:]\n",
    "x_test = test.ix[:,1:]\n",
    "\n",
    "y_train = train.Survived"
   ]
  },
  {
   "cell_type": "markdown",
   "metadata": {},
   "source": [
    "# model 1 > 0.73684"
   ]
  },
  {
   "cell_type": "raw",
   "metadata": {},
   "source": [
    "Random Forest model\n",
    "* With as is features accuracy = 0.73684\n",
    "* with new transformed features = 0.73206"
   ]
  },
  {
   "cell_type": "code",
   "execution_count": 197,
   "metadata": {
    "collapsed": false
   },
   "outputs": [
    {
     "data": {
      "text/plain": [
       "97.979797979797979"
      ]
     },
     "execution_count": 197,
     "metadata": {},
     "output_type": "execute_result"
    }
   ],
   "source": [
    "#model\n",
    "from sklearn.ensemble import RandomForestClassifier\n",
    "model1 = RandomForestClassifier(n_estimators=1000)\n",
    "\n",
    "outputfile = 'data/output/output_1.csv'\n",
    "train_model_and_predict(model1, outputfile)"
   ]
  },
  {
   "cell_type": "markdown",
   "metadata": {},
   "source": [
    "# model 2 > 0.76555"
   ]
  },
  {
   "cell_type": "raw",
   "metadata": {},
   "source": [
    "Ada Boost model\n",
    "* With as is features accuracy = 0.76555 (Best)\n",
    "* with new transformed features = 0.76555"
   ]
  },
  {
   "cell_type": "code",
   "execution_count": 201,
   "metadata": {
    "collapsed": false
   },
   "outputs": [
    {
     "data": {
      "text/plain": [
       "82.491582491582491"
      ]
     },
     "execution_count": 201,
     "metadata": {},
     "output_type": "execute_result"
    }
   ],
   "source": [
    "from sklearn.ensemble import AdaBoostClassifier\n",
    "\n",
    "model2 = AdaBoostClassifier(base_estimator=None, \n",
    "                            n_estimators=1000, \n",
    "                            learning_rate=0.1, \n",
    "                            algorithm='SAMME.R', \n",
    "                            random_state=23)\n",
    "\n",
    "outputfile = 'data/output/output_5.csv'\n",
    "train_model_and_predict(model2, outputfile)"
   ]
  },
  {
   "cell_type": "markdown",
   "metadata": {},
   "source": [
    "# model 3 > 0.75598"
   ]
  },
  {
   "cell_type": "raw",
   "metadata": {},
   "source": [
    "Gaussian NB model\n",
    "* With as is features accuracy = 0.75598\n",
    "* with new transformed features = 0.73684"
   ]
  },
  {
   "cell_type": "code",
   "execution_count": 199,
   "metadata": {
    "collapsed": false
   },
   "outputs": [
    {
     "data": {
      "text/plain": [
       "78.787878787878782"
      ]
     },
     "execution_count": 199,
     "metadata": {},
     "output_type": "execute_result"
    }
   ],
   "source": [
    "from sklearn.naive_bayes import GaussianNB\n",
    "model3 = GaussianNB()\n",
    "\n",
    "outputfile = 'data/output/output_3.csv'\n",
    "train_model_and_predict(model3, outputfile)"
   ]
  },
  {
   "cell_type": "markdown",
   "metadata": {},
   "source": [
    "#scratch"
   ]
  },
  {
   "cell_type": "code",
   "execution_count": null,
   "metadata": {
    "collapsed": false
   },
   "outputs": [],
   "source": []
  },
  {
   "cell_type": "code",
   "execution_count": null,
   "metadata": {
    "collapsed": true
   },
   "outputs": [],
   "source": []
  }
 ],
 "metadata": {
  "kernelspec": {
   "display_name": "Python 2",
   "language": "python",
   "name": "python2"
  },
  "language_info": {
   "codemirror_mode": {
    "name": "ipython",
    "version": 2
   },
   "file_extension": ".py",
   "mimetype": "text/x-python",
   "name": "python",
   "nbconvert_exporter": "python",
   "pygments_lexer": "ipython2",
   "version": "2.7.9"
  }
 },
 "nbformat": 4,
 "nbformat_minor": 0
}
